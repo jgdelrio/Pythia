{
 "cells": [
  {
   "cell_type": "code",
   "execution_count": 1,
   "metadata": {},
   "outputs": [
    {
     "name": "stdout",
     "output_type": "stream",
     "text": [
      "CPython 3.7.5\n",
      "IPython 7.10.0\n",
      "\n",
      "numpy 1.17.4\n",
      "pandas 0.25.3\n",
      "matplotlib 3.1.2\n",
      "\n",
      "compiler   : Clang 4.0.1 (tags/RELEASE_401/final)\n",
      "system     : Darwin\n",
      "release    : 19.0.0\n",
      "machine    : x86_64\n",
      "processor  : i386\n",
      "CPU cores  : 16\n",
      "interpreter: 64bit\n",
      "Git hash   : a1b91d41c36eaa100ab30bacd2a13ee8c548e140\n"
     ]
    }
   ],
   "source": [
    "%load_ext autoreload\n",
    "%autoreload 2\n",
    "%matplotlib inline\n",
    "%load_ext watermark\n",
    "%watermark -v -m -p numpy,pandas,matplotlib -g\n",
    "\n",
    "import sys\n",
    "from os import path, pardir\n",
    "import numpy as np\n",
    "import pandas as pd\n",
    "import matplotlib.pyplot as plt\n",
    "from tqdm import tqdm_notebook as tqdm\n",
    "import watermark\n",
    "\n",
    "plt.style.use('seaborn-deep')\n",
    "pd.set_option('display.max_rows', 2000)\n",
    "pd.set_option('display.max_colwidth', -1)\n",
    "\n",
    "sys.path.append(path.abspath(pardir))"
   ]
  },
  {
   "cell_type": "code",
   "execution_count": 2,
   "metadata": {},
   "outputs": [],
   "source": [
    "from src.api_manager import *\n",
    "from src.overall_commands import *"
   ]
  },
  {
   "cell_type": "code",
   "execution_count": 9,
   "metadata": {},
   "outputs": [
    {
     "name": "stdout",
     "output_type": "stream",
     "text": [
      "Retrieving ES0SI0000005:\t\tFrom 'vantage' API\n",
      "Retrieving EU0009658145:\t\tFrom 'vantage' API\n",
      "Retrieving GB0001383545:\t\tFrom 'vantage' API\n",
      "Retrieving FR0003500008:\t\tFrom 'vantage' API\n"
     ]
    }
   ],
   "source": [
    "# Find symbols of stocks\n",
    "references = [\"Lazard\", \"Cisco\"]\n",
    "\n",
    "result = search_symbol(references)\n",
    "first_rst = [rst['bestMatches'][0]  if len(rst['bestMatches']) > 0 else None for rst in result]\n",
    "print(result)"
   ]
  },
  {
   "cell_type": "code",
   "execution_count": 16,
   "metadata": {},
   "outputs": [
    {
     "name": "stdout",
     "output_type": "stream",
     "text": [
      "Updating LAZ:\t\t\t\tIgnored. Data daily < 7d old\n",
      "Updating CSCO:\t\t\t\tIgnored. Data daily < 7d old\n",
      "Updating LAZ:\t\t\t\tIgnored. Data monthly < 7d old\n",
      "Updating CSCO:\t\t\t\tIgnored. Data monthly < 7d old\n",
      "Updating LAZ:\t\t\t\tIgnored. Data daily_adjusted < 7d old\n",
      "Updating CSCO:\t\t\t\tIgnored. Data daily_adjusted < 7d old\n",
      "Updating LAZ:\t\t\t\tIgnored. Data monthly_adjusted < 7d old\n",
      "Updating CSCO:\t\t\t\tIgnored. Data monthly_adjusted < 7d old\n",
      "Stocks update finished!\n"
     ]
    }
   ],
   "source": [
    "# Retrieve data...\n",
    "update_all_stock_data([\"LAZ\", \"CSCO\"], verbose=0)"
   ]
  },
  {
   "cell_type": "code",
   "execution_count": null,
   "metadata": {},
   "outputs": [],
   "source": []
  }
 ],
 "metadata": {
  "kernelspec": {
   "display_name": "Python [conda env:tensorflow2] *",
   "language": "python",
   "name": "conda-env-tensorflow2-py"
  },
  "language_info": {
   "codemirror_mode": {
    "name": "ipython",
    "version": 3
   },
   "file_extension": ".py",
   "mimetype": "text/x-python",
   "name": "python",
   "nbconvert_exporter": "python",
   "pygments_lexer": "ipython3",
   "version": "3.7.5"
  }
 },
 "nbformat": 4,
 "nbformat_minor": 2
}
