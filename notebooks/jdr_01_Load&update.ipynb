{
 "cells": [
  {
   "cell_type": "code",
   "execution_count": 1,
   "metadata": {},
   "outputs": [
    {
     "name": "stdout",
     "output_type": "stream",
     "text": [
      "CPython 3.7.5\n",
      "IPython 7.10.0\n",
      "\n",
      "numpy 1.17.4\n",
      "pandas 0.25.3\n",
      "matplotlib 3.1.2\n",
      "\n",
      "compiler   : Clang 4.0.1 (tags/RELEASE_401/final)\n",
      "system     : Darwin\n",
      "release    : 19.0.0\n",
      "machine    : x86_64\n",
      "processor  : i386\n",
      "CPU cores  : 16\n",
      "interpreter: 64bit\n",
      "Git hash   : 069ca71f3516cf9c1a14773e1598bd13e62ddfa3\n"
     ]
    }
   ],
   "source": [
    "%load_ext autoreload\n",
    "%autoreload 2\n",
    "%matplotlib inline\n",
    "%load_ext watermark\n",
    "%watermark -v -m -p numpy,pandas,matplotlib -g\n",
    "\n",
    "import sys\n",
    "from os import path, pardir\n",
    "import numpy as np\n",
    "import pandas as pd\n",
    "import matplotlib.pyplot as plt\n",
    "from pprint import pprint as pp\n",
    "from tqdm import tqdm_notebook as tqdm\n",
    "import watermark\n",
    "\n",
    "plt.style.use('seaborn-deep')\n",
    "pd.set_option('display.max_rows', 2000)\n",
    "pd.set_option('display.max_colwidth', -1)\n",
    "\n",
    "sys.path.append(path.abspath(pardir))"
   ]
  },
  {
   "cell_type": "code",
   "execution_count": 2,
   "metadata": {},
   "outputs": [],
   "source": [
    "from src.api_manager import *\n",
    "from src.overall_commands import *"
   ]
  },
  {
   "cell_type": "code",
   "execution_count": 7,
   "metadata": {},
   "outputs": [
    {
     "name": "stdout",
     "output_type": "stream",
     "text": [
      "[{'bestMatches': [{'1. symbol': 'URW.AMS',\n",
      "                   '2. name': 'Unibail-Rodamco-Westfield',\n",
      "                   '3. type': 'Equity',\n",
      "                   '4. region': 'Amsterdam',\n",
      "                   '5. marketOpen': '09:00',\n",
      "                   '6. marketClose': '17:40',\n",
      "                   '7. timezone': 'UTC+01',\n",
      "                   '8. currency': 'EUR',\n",
      "                   '9. matchScore': '1.0000'}]}]\n"
     ]
    }
   ],
   "source": [
    "# Find symbols of stocks\n",
    "references = [\"URW.AMS\"]\n",
    "\n",
    "result = search_symbol(references)\n",
    "first_rst = [rst['bestMatches'][0]  if len(rst['bestMatches']) > 0 else None for rst in result]\n",
    "pp(result)"
   ]
  },
  {
   "cell_type": "code",
   "execution_count": 6,
   "metadata": {},
   "outputs": [],
   "source": [
    "# Retrieve data...\n",
    "update_all_stock_data([\"NG.LON\"], verbose=1)"
   ]
  },
  {
   "cell_type": "code",
   "execution_count": null,
   "metadata": {},
   "outputs": [],
   "source": []
  }
 ],
 "metadata": {
  "kernelspec": {
   "display_name": "Python [conda env:tensorflow2] *",
   "language": "python",
   "name": "conda-env-tensorflow2-py"
  },
  "language_info": {
   "codemirror_mode": {
    "name": "ipython",
    "version": 3
   },
   "file_extension": ".py",
   "mimetype": "text/x-python",
   "name": "python",
   "nbconvert_exporter": "python",
   "pygments_lexer": "ipython3",
   "version": "3.7.5"
  }
 },
 "nbformat": 4,
 "nbformat_minor": 2
}
