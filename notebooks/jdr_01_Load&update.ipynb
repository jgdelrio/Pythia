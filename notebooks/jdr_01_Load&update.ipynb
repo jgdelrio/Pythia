{
 "cells": [
  {
   "cell_type": "code",
   "execution_count": 2,
   "metadata": {},
   "outputs": [
    {
     "name": "stdout",
     "output_type": "stream",
     "text": [
      "CPython 3.7.5\n",
      "IPython 7.10.0\n",
      "\n",
      "numpy 1.17.4\n",
      "pandas 0.25.3\n",
      "matplotlib 3.1.2\n",
      "\n",
      "compiler   : Clang 4.0.1 (tags/RELEASE_401/final)\n",
      "system     : Darwin\n",
      "release    : 19.0.0\n",
      "machine    : x86_64\n",
      "processor  : i386\n",
      "CPU cores  : 16\n",
      "interpreter: 64bit\n",
      "Git hash   : 1566b8e700b67e85df91c1524f589f2a2c586c5b\n"
     ]
    }
   ],
   "source": [
    "%load_ext autoreload\n",
    "%autoreload 2\n",
    "%matplotlib inline\n",
    "%load_ext watermark\n",
    "%watermark -v -m -p numpy,pandas,matplotlib -g\n",
    "\n",
    "import sys\n",
    "from os import path, pardir\n",
    "import numpy as np\n",
    "import pandas as pd\n",
    "import matplotlib.pyplot as plt\n",
    "from pprint import pprint as pp\n",
    "from tqdm import tqdm_notebook as tqdm\n",
    "import watermark\n",
    "\n",
    "plt.style.use('seaborn-deep')\n",
    "pd.set_option('display.max_rows', 2000)\n",
    "pd.set_option('display.max_colwidth', -1)\n",
    "\n",
    "sys.path.append(path.abspath(pardir))"
   ]
  },
  {
   "cell_type": "code",
   "execution_count": 3,
   "metadata": {},
   "outputs": [],
   "source": [
    "from src.api_manager import *\n",
    "from src.overall_commands import *"
   ]
  },
  {
   "cell_type": "code",
   "execution_count": 4,
   "metadata": {},
   "outputs": [
    {
     "name": "stdout",
     "output_type": "stream",
     "text": [
      "Retrieving EVRAZ:\t\t\tFrom 'vantage' API\n",
      "[{'bestMatches': [{'1. symbol': 'EVRZF',\n",
      "                   '2. name': 'EVRAZ plc',\n",
      "                   '3. type': 'Equity',\n",
      "                   '4. region': 'United States',\n",
      "                   '5. marketOpen': '09:30',\n",
      "                   '6. marketClose': '16:00',\n",
      "                   '7. timezone': 'UTC-05',\n",
      "                   '8. currency': 'USD',\n",
      "                   '9. matchScore': '0.8000'},\n",
      "                  {'1. symbol': 'EVR.LON',\n",
      "                   '2. name': 'EVRAZ plc',\n",
      "                   '3. type': 'Equity',\n",
      "                   '4. region': 'United Kingdom',\n",
      "                   '5. marketOpen': '08:00',\n",
      "                   '6. marketClose': '16:30',\n",
      "                   '7. timezone': 'UTC+00',\n",
      "                   '8. currency': 'GBP',\n",
      "                   '9. matchScore': '0.7143'},\n",
      "                  {'1. symbol': 'EVZ.MUN',\n",
      "                   '2. name': 'EVRAZ PLC  DL 0,05',\n",
      "                   '3. type': 'Equity',\n",
      "                   '4. region': 'Munich',\n",
      "                   '5. marketOpen': '08:00',\n",
      "                   '6. marketClose': '20:00',\n",
      "                   '7. timezone': 'UTC+01',\n",
      "                   '8. currency': 'EUR',\n",
      "                   '9. matchScore': '0.7143'},\n",
      "                  {'1. symbol': 'EVZ.BER',\n",
      "                   '2. name': 'EVRAZ PLC  DL 0,05',\n",
      "                   '3. type': 'Equity',\n",
      "                   '4. region': 'Berlin',\n",
      "                   '5. marketOpen': '08:00',\n",
      "                   '6. marketClose': '20:00',\n",
      "                   '7. timezone': 'UTC+01',\n",
      "                   '8. currency': 'EUR',\n",
      "                   '9. matchScore': '0.5455'},\n",
      "                  {'1. symbol': 'EVZ.DUS',\n",
      "                   '2. name': 'EVRAZ PLC  DL 0,05',\n",
      "                   '3. type': 'Equity',\n",
      "                   '4. region': 'Dusseldorf',\n",
      "                   '5. marketOpen': '08:30',\n",
      "                   '6. marketClose': '20:00',\n",
      "                   '7. timezone': 'UTC+01',\n",
      "                   '8. currency': 'EUR',\n",
      "                   '9. matchScore': '0.5455'},\n",
      "                  {'1. symbol': 'EVZ.STG',\n",
      "                   '2. name': 'Evraz PLC Registered Shares DL ',\n",
      "                   '3. type': 'Equity',\n",
      "                   '4. region': 'Stuttgart',\n",
      "                   '5. marketOpen': '08:00',\n",
      "                   '6. marketClose': '20:00',\n",
      "                   '7. timezone': 'UTC+01',\n",
      "                   '8. currency': 'EUR',\n",
      "                   '9. matchScore': '0.5455'},\n",
      "                  {'1. symbol': 'EVZ.FRK',\n",
      "                   '2. name': 'EVRAZ plc',\n",
      "                   '3. type': 'Equity',\n",
      "                   '4. region': 'Frankfurt',\n",
      "                   '5. marketOpen': '08:00',\n",
      "                   '6. marketClose': '20:00',\n",
      "                   '7. timezone': 'UTC+01',\n",
      "                   '8. currency': 'EUR',\n",
      "                   '9. matchScore': '0.5455'}]}]\n"
     ]
    }
   ],
   "source": [
    "# Find symbols of stocks\n",
    "references = [\"Lazard\", \"Cisco\"]\n",
    "\n",
    "result = search_symbol(references)\n",
    "first_rst = [rst['bestMatches'][0]  if len(rst['bestMatches']) > 0 else None for rst in result]\n",
    "pp(result)"
   ]
  },
  {
   "cell_type": "code",
   "execution_count": 5,
   "metadata": {},
   "outputs": [
    {
     "name": "stdout",
     "output_type": "stream",
     "text": [
      "Updating EVR.LON ...\n",
      "Retrieving EVR.LON:\t\t\tFrom 'vantage' API\n",
      "Saved EVR.LON data:\t\t\t[stock_data_daily] OK\n",
      "Updating EVR.LON info:\t\tOK\n",
      "Updating EVR.LON:\t\t\tFinished\n",
      "Updating EVR.LON ...\n",
      "Retrieving EVR.LON:\t\t\tFrom 'vantage' API\n",
      "Saved EVR.LON data:\t\t\t[stock_data_monthly] OK\n",
      "Updating EVR.LON info:\t\tOK\n",
      "Updating EVR.LON:\t\t\tFinished\n",
      "Updating EVR.LON ...\n",
      "Retrieving EVR.LON:\t\t\tFrom 'vantage' API\n",
      "Saved EVR.LON data:\t\t\t[stock_data_daily-adjusted] OK\n",
      "Updating EVR.LON info:\t\tOK\n",
      "Updating EVR.LON:\t\t\tFinished\n",
      "Updating EVR.LON ...\n",
      "Retrieving EVR.LON:\t\t\tFrom 'vantage' API\n",
      "Saved EVR.LON data:\t\t\t[stock_data_monthly-adjusted] OK\n",
      "Updating EVR.LON info:\t\tOK\n",
      "Updating EVR.LON:\t\t\tFinished\n",
      "Stocks update finished!\n"
     ]
    }
   ],
   "source": [
    "# Retrieve data...\n",
    "update_all_stock_data([\"LAZ\", \"CSCO\"], verbose=0)"
   ]
  },
  {
   "cell_type": "code",
   "execution_count": null,
   "metadata": {},
   "outputs": [],
   "source": []
  }
 ],
 "metadata": {
  "kernelspec": {
   "display_name": "Python [conda env:tensorflow2] *",
   "language": "python",
   "name": "conda-env-tensorflow2-py"
  },
  "language_info": {
   "codemirror_mode": {
    "name": "ipython",
    "version": 3
   },
   "file_extension": ".py",
   "mimetype": "text/x-python",
   "name": "python",
   "nbconvert_exporter": "python",
   "pygments_lexer": "ipython3",
   "version": "3.7.5"
  }
 },
 "nbformat": 4,
 "nbformat_minor": 2
}
