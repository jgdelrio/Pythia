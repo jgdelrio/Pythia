{
 "cells": [
  {
   "cell_type": "code",
   "execution_count": 1,
   "metadata": {},
   "outputs": [
    {
     "name": "stdout",
     "output_type": "stream",
     "text": [
      "CPython 3.7.5\n",
      "IPython 7.10.0\n",
      "\n",
      "numpy 1.17.4\n",
      "pandas 0.25.3\n",
      "matplotlib 3.1.2\n",
      "\n",
      "compiler   : Clang 4.0.1 (tags/RELEASE_401/final)\n",
      "system     : Darwin\n",
      "release    : 19.0.0\n",
      "machine    : x86_64\n",
      "processor  : i386\n",
      "CPU cores  : 16\n",
      "interpreter: 64bit\n",
      "Git hash   : 1c56459cd3a9fd7daffa4f052600ab829c0dfa10\n"
     ]
    }
   ],
   "source": [
    "%load_ext autoreload\n",
    "%autoreload 2\n",
    "%matplotlib inline\n",
    "%load_ext watermark\n",
    "%watermark -v -m -p numpy,pandas,matplotlib -g\n",
    "\n",
    "import sys\n",
    "from os import path, pardir\n",
    "import numpy as np\n",
    "import pandas as pd\n",
    "import matplotlib.pyplot as plt\n",
    "from tqdm import tqdm_notebook as tqdm\n",
    "import watermark\n",
    "\n",
    "plt.style.use('seaborn-deep')\n",
    "pd.set_option('display.max_rows', 2000)\n",
    "pd.set_option('display.max_colwidth', -1)\n",
    "\n",
    "sys.path.append(path.abspath(pardir))"
   ]
  },
  {
   "cell_type": "code",
   "execution_count": 2,
   "metadata": {},
   "outputs": [],
   "source": [
    "from src.api_manager import *\n",
    "from src.overall_commands import *"
   ]
  },
  {
   "cell_type": "code",
   "execution_count": 9,
   "metadata": {},
   "outputs": [
    {
     "name": "stdout",
     "output_type": "stream",
     "text": [
      "Retrieving ES0SI0000005:\t\tFrom 'vantage' API\n",
      "Retrieving EU0009658145:\t\tFrom 'vantage' API\n",
      "Retrieving GB0001383545:\t\tFrom 'vantage' API\n",
      "Retrieving FR0003500008:\t\tFrom 'vantage' API\n"
     ]
    }
   ],
   "source": [
    "# Find symbols of stocks\n",
    "references = [\"Lazard\", \"Cisco\"]\n",
    "\n",
    "result = search_symbol(references)\n",
    "first_rst = [rst['bestMatches'][0]  if len(rst['bestMatches']) > 0 else None for rst in result]\n",
    "print(result)"
   ]
  },
  {
   "cell_type": "code",
   "execution_count": 16,
   "metadata": {},
   "outputs": [
    {
     "name": "stdout",
     "output_type": "stream",
     "text": [
      "Updating LAZ:\t\t\t\tIgnored. Data daily < 7d old\n",
      "Updating CSCO:\t\t\t\tIgnored. Data daily < 7d old\n",
      "Updating LAZ:\t\t\t\tIgnored. Data monthly < 7d old\n",
      "Updating CSCO:\t\t\t\tIgnored. Data monthly < 7d old\n",
      "Updating LAZ:\t\t\t\tIgnored. Data daily_adjusted < 7d old\n",
      "Updating CSCO:\t\t\t\tIgnored. Data daily_adjusted < 7d old\n",
      "Updating LAZ:\t\t\t\tIgnored. Data monthly_adjusted < 7d old\n",
      "Updating CSCO:\t\t\t\tIgnored. Data monthly_adjusted < 7d old\n",
      "Stocks update finished!\n"
     ]
    }
   ],
   "source": [
    "# Retrieve data...\n",
    "update_all_stock_data([\"LAZ\", \"CSCO\"], verbose=0)"
   ]
  },
  {
   "cell_type": "code",
   "execution_count": 17,
   "metadata": {},
   "outputs": [
    {
     "name": "stdout",
     "output_type": "stream",
     "text": [
      "Info file read:\t\t\t\t/Users/josesanz/stock_projects/Pythia/data/GBP_EUR/info_data_daily.json\n",
      "Info file read:\t\t\t\t/Users/josesanz/stock_projects/Pythia/data/GBP_INR/info_data_daily.json\n",
      "Info file read:\t\t\t\t/Users/josesanz/stock_projects/Pythia/data/GBP_USD/info_data_daily.json\n"
     ]
    },
    {
     "data": {
      "text/html": [
       "<div>\n",
       "<style scoped>\n",
       "    .dataframe tbody tr th:only-of-type {\n",
       "        vertical-align: middle;\n",
       "    }\n",
       "\n",
       "    .dataframe tbody tr th {\n",
       "        vertical-align: top;\n",
       "    }\n",
       "\n",
       "    .dataframe thead th {\n",
       "        text-align: right;\n",
       "    }\n",
       "</style>\n",
       "<table border=\"1\" class=\"dataframe\">\n",
       "  <thead>\n",
       "    <tr style=\"text-align: right;\">\n",
       "      <th></th>\n",
       "      <th>From</th>\n",
       "      <th>To</th>\n",
       "      <th>FirstTimeStamp</th>\n",
       "      <th>LastUpdate</th>\n",
       "      <th>TimeZone</th>\n",
       "      <th>Information</th>\n",
       "    </tr>\n",
       "  </thead>\n",
       "  <tbody>\n",
       "    <tr>\n",
       "      <th>0</th>\n",
       "      <td>GBP</td>\n",
       "      <td>CNY</td>\n",
       "      <td>None</td>\n",
       "      <td>None</td>\n",
       "      <td>None</td>\n",
       "      <td>None</td>\n",
       "    </tr>\n",
       "    <tr>\n",
       "      <th>1</th>\n",
       "      <td>GBP</td>\n",
       "      <td>EUR</td>\n",
       "      <td>None</td>\n",
       "      <td>2019-12-11 00:50:00</td>\n",
       "      <td>UTC</td>\n",
       "      <td>Forex Daily Prices (open, high, low, close)</td>\n",
       "    </tr>\n",
       "    <tr>\n",
       "      <th>2</th>\n",
       "      <td>GBP</td>\n",
       "      <td>INR</td>\n",
       "      <td>None</td>\n",
       "      <td>2019-12-10 23:20:00</td>\n",
       "      <td>UTC</td>\n",
       "      <td>Forex Daily Prices (open, high, low, close)</td>\n",
       "    </tr>\n",
       "    <tr>\n",
       "      <th>3</th>\n",
       "      <td>GBP</td>\n",
       "      <td>USD</td>\n",
       "      <td>None</td>\n",
       "      <td>2019-12-11 00:50:00</td>\n",
       "      <td>UTC</td>\n",
       "      <td>Forex Daily Prices (open, high, low, close)</td>\n",
       "    </tr>\n",
       "  </tbody>\n",
       "</table>\n",
       "</div>"
      ],
      "text/plain": [
       "  From   To FirstTimeStamp           LastUpdate TimeZone  \\\n",
       "0  GBP  CNY  None           None                 None      \n",
       "1  GBP  EUR  None           2019-12-11 00:50:00  UTC       \n",
       "2  GBP  INR  None           2019-12-10 23:20:00  UTC       \n",
       "3  GBP  USD  None           2019-12-11 00:50:00  UTC       \n",
       "\n",
       "                                   Information  \n",
       "0  None                                         \n",
       "1  Forex Daily Prices (open, high, low, close)  \n",
       "2  Forex Daily Prices (open, high, low, close)  \n",
       "3  Forex Daily Prices (open, high, low, close)  "
      ]
     },
     "execution_count": 17,
     "metadata": {},
     "output_type": "execute_result"
    }
   ],
   "source": [
    "get_fx_table()"
   ]
  },
  {
   "cell_type": "code",
   "execution_count": 3,
   "metadata": {},
   "outputs": [],
   "source": [
    "df_shares = get_share_table()"
   ]
  },
  {
   "cell_type": "code",
   "execution_count": 5,
   "metadata": {},
   "outputs": [
    {
     "ename": "AttributeError",
     "evalue": "'list' object has no attribute 'split'",
     "output_type": "error",
     "traceback": [
      "\u001b[0;31m---------------------------------------------------------------------------\u001b[0m",
      "\u001b[0;31mAttributeError\u001b[0m                            Traceback (most recent call last)",
      "\u001b[0;32m<ipython-input-5-78cf2037512c>\u001b[0m in \u001b[0;36m<module>\u001b[0;34m\u001b[0m\n\u001b[0;32m----> 1\u001b[0;31m \u001b[0mget_fx_table\u001b[0m\u001b[0;34m(\u001b[0m\u001b[0;34m)\u001b[0m\u001b[0;34m\u001b[0m\u001b[0;34m\u001b[0m\u001b[0m\n\u001b[0m",
      "\u001b[0;32m~/stock_projects/Pythia/src/overall_commands.py\u001b[0m in \u001b[0;36mget_fx_table\u001b[0;34m(mode, verbose)\u001b[0m\n\u001b[1;32m    139\u001b[0m         \u001b[0mid_refs\u001b[0m\u001b[0;34m,\u001b[0m \u001b[0mid_folders\u001b[0m \u001b[0;34m=\u001b[0m \u001b[0mget_crypto_references\u001b[0m\u001b[0;34m(\u001b[0m\u001b[0;34m)\u001b[0m\u001b[0;34m\u001b[0m\u001b[0;34m\u001b[0m\u001b[0m\n\u001b[1;32m    140\u001b[0m         \u001b[0mid_refs\u001b[0m \u001b[0;34m=\u001b[0m \u001b[0;34m[\u001b[0m\u001b[0mk\u001b[0m\u001b[0;34m[\u001b[0m\u001b[0mlen\u001b[0m\u001b[0;34m(\u001b[0m\u001b[0mDFT_CRIPTO_PREFIX\u001b[0m\u001b[0;34m)\u001b[0m\u001b[0;34m:\u001b[0m\u001b[0;34m]\u001b[0m \u001b[0;32mfor\u001b[0m \u001b[0mk\u001b[0m \u001b[0;32min\u001b[0m \u001b[0mid_refs\u001b[0m\u001b[0;34m]\u001b[0m\u001b[0;34m\u001b[0m\u001b[0;34m\u001b[0m\u001b[0m\n\u001b[0;32m--> 141\u001b[0;31m     \u001b[0;32mreturn\u001b[0m \u001b[0m__create_table\u001b[0m\u001b[0;34m(\u001b[0m\u001b[0mzip\u001b[0m\u001b[0;34m(\u001b[0m\u001b[0mid_folders\u001b[0m\u001b[0;34m,\u001b[0m \u001b[0mid_refs\u001b[0m\u001b[0;34m)\u001b[0m\u001b[0;34m,\u001b[0m \u001b[0mverbose\u001b[0m\u001b[0;34m=\u001b[0m\u001b[0mverbose\u001b[0m\u001b[0;34m)\u001b[0m\u001b[0;34m\u001b[0m\u001b[0;34m\u001b[0m\u001b[0m\n\u001b[0m\u001b[1;32m    142\u001b[0m \u001b[0;34m\u001b[0m\u001b[0m\n\u001b[1;32m    143\u001b[0m \u001b[0;34m\u001b[0m\u001b[0m\n",
      "\u001b[0;32m~/stock_projects/Pythia/src/overall_commands.py\u001b[0m in \u001b[0;36m__create_table\u001b[0;34m(refs, verbose)\u001b[0m\n\u001b[1;32m    145\u001b[0m     \u001b[0mrows\u001b[0m \u001b[0;34m=\u001b[0m \u001b[0;34m[\u001b[0m\u001b[0;34m]\u001b[0m\u001b[0;34m\u001b[0m\u001b[0;34m\u001b[0m\u001b[0m\n\u001b[1;32m    146\u001b[0m     \u001b[0;32mfor\u001b[0m \u001b[0mid_folder\u001b[0m\u001b[0;34m,\u001b[0m \u001b[0mid_refs\u001b[0m \u001b[0;32min\u001b[0m \u001b[0mrefs\u001b[0m\u001b[0;34m:\u001b[0m\u001b[0;34m\u001b[0m\u001b[0;34m\u001b[0m\u001b[0m\n\u001b[0;32m--> 147\u001b[0;31m         \u001b[0mfrom_fx\u001b[0m\u001b[0;34m,\u001b[0m \u001b[0mto_fx\u001b[0m \u001b[0;34m=\u001b[0m \u001b[0mid_refs\u001b[0m\u001b[0;34m.\u001b[0m\u001b[0msplit\u001b[0m\u001b[0;34m(\u001b[0m\u001b[0;34m\"_\"\u001b[0m\u001b[0;34m)\u001b[0m\u001b[0;34m\u001b[0m\u001b[0;34m\u001b[0m\u001b[0m\n\u001b[0m\u001b[1;32m    148\u001b[0m         \u001b[0minfo_files\u001b[0m \u001b[0;34m=\u001b[0m \u001b[0mlist\u001b[0m\u001b[0;34m(\u001b[0m\u001b[0mid_folder\u001b[0m\u001b[0;34m.\u001b[0m\u001b[0mglob\u001b[0m\u001b[0;34m(\u001b[0m\u001b[0minfo_data_pattern\u001b[0m\u001b[0;34m)\u001b[0m\u001b[0;34m)\u001b[0m\u001b[0;34m\u001b[0m\u001b[0;34m\u001b[0m\u001b[0m\n\u001b[1;32m    149\u001b[0m \u001b[0;34m\u001b[0m\u001b[0m\n",
      "\u001b[0;31mAttributeError\u001b[0m: 'list' object has no attribute 'split'"
     ]
    }
   ],
   "source": [
    "get_fx_table()"
   ]
  },
  {
   "cell_type": "code",
   "execution_count": null,
   "metadata": {},
   "outputs": [],
   "source": []
  }
 ],
 "metadata": {
  "kernelspec": {
   "display_name": "Python [conda env:tensorflow2] *",
   "language": "python",
   "name": "conda-env-tensorflow2-py"
  },
  "language_info": {
   "codemirror_mode": {
    "name": "ipython",
    "version": 3
   },
   "file_extension": ".py",
   "mimetype": "text/x-python",
   "name": "python",
   "nbconvert_exporter": "python",
   "pygments_lexer": "ipython3",
   "version": "3.7.5"
  }
 },
 "nbformat": 4,
 "nbformat_minor": 2
}
