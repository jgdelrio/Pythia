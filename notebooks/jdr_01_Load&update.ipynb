{
 "cells": [
  {
   "cell_type": "code",
   "execution_count": 1,
   "metadata": {},
   "outputs": [
    {
     "name": "stdout",
     "output_type": "stream",
     "text": [
      "CPython 3.5.6\n",
      "IPython 7.0.1\n",
      "\n",
      "numpy 1.11.3\n",
      "pandas 0.22.0\n",
      "matplotlib 3.0.0\n",
      "\n",
      "compiler   : GCC 4.2.1 Compatible Clang 4.0.1 (tags/RELEASE_401/final)\n",
      "system     : Darwin\n",
      "release    : 19.0.0\n",
      "machine    : x86_64\n",
      "processor  : i386\n",
      "CPU cores  : 16\n",
      "interpreter: 64bit\n",
      "Git hash   : ddc8b1351fe4c36d18f63dbe9821bd8cc016a7a5\n"
     ]
    }
   ],
   "source": [
    "%load_ext autoreload\n",
    "%autoreload 2\n",
    "%matplotlib inline\n",
    "%load_ext watermark\n",
    "%watermark -v -m -p numpy,pandas,matplotlib -g\n",
    "\n",
    "import sys\n",
    "from os import path, pardir\n",
    "import numpy as np\n",
    "import pandas as pd\n",
    "import matplotlib.pyplot as plt\n",
    "from pprint import pprint as pp\n",
    "from tqdm import tqdm_notebook as tqdm\n",
    "import watermark\n",
    "\n",
    "plt.style.use('seaborn-deep')\n",
    "pd.set_option('display.max_rows', 2000)\n",
    "pd.set_option('display.max_colwidth', -1)\n",
    "\n",
    "sys.path.append(path.abspath(pardir))"
   ]
  },
  {
   "cell_type": "code",
   "execution_count": 2,
   "metadata": {},
   "outputs": [],
   "source": [
    "from src.api_manager import *\n",
    "from src.overall_commands import *"
   ]
  },
  {
   "cell_type": "code",
   "execution_count": 3,
   "metadata": {},
   "outputs": [
    {
     "name": "stdout",
     "output_type": "stream",
     "text": [
      "[{'bestMatches': [{'1. symbol': 'BARC.LON',\n",
      "                   '2. name': 'Barclays PLC',\n",
      "                   '3. type': 'Equity',\n",
      "                   '4. region': 'United Kingdom',\n",
      "                   '5. marketOpen': '08:00',\n",
      "                   '6. marketClose': '16:30',\n",
      "                   '7. timezone': 'UTC+00',\n",
      "                   '8. currency': 'GBP',\n",
      "                   '9. matchScore': '0.1111'}]}]\n"
     ]
    }
   ],
   "source": [
    "# Find symbols of stocks\n",
    "references = [\"GB0031348658\"]\n",
    "\n",
    "result = search_symbol(references)\n",
    "first_rst = [rst['bestMatches'][0]  if len(rst['bestMatches']) > 0 else None for rst in result]\n",
    "pp(result)"
   ]
  },
  {
   "cell_type": "code",
   "execution_count": 4,
   "metadata": {},
   "outputs": [
    {
     "name": "stdout",
     "output_type": "stream",
     "text": [
      "Updating BARC.LON ...\n",
      "Retrieving BARC.LON:\t\t\tFrom 'vantage' API\n",
      "ERROR saving data:\t\tBARC.LONstock_data_daily FileNotFoundError(2, 'No such file or directory') None\n",
      "ERROR updating info: /Users/josesanz/stock_projects/Pythia/data/BARC.LON/info_data_daily.json. Msg: TypeError(\"invalid file: PosixPath('/Users/josesanz/stock_projects/Pythia/data/BARC.LON/info_data_daily.json')\",) None\n",
      "Updating BARC.LON:\t\t\t\tFinished\n",
      "Updating BARC.LON ...\n",
      "Retrieving BARC.LON:\t\t\tFrom 'vantage' API\n"
     ]
    },
    {
     "name": "stderr",
     "output_type": "stream",
     "text": [
      "  File \"/Users/josesanz/stock_projects/Pythia/src/utils.py\", line 111, in save_pandas_data\n",
      "    data.reset_index().to_csv(file_name, index=False, compression=\"zip\")             # Using \"infer\" in later versions\n",
      "  File \"/Users/josesanz/anaconda3/envs/zipline/lib/python3.5/site-packages/pandas/core/frame.py\", line 1524, in to_csv\n",
      "    formatter.save()\n",
      "  File \"/Users/josesanz/anaconda3/envs/zipline/lib/python3.5/site-packages/pandas/io/formats/format.py\", line 1637, in save\n",
      "    compression=self.compression)\n",
      "  File \"/Users/josesanz/anaconda3/envs/zipline/lib/python3.5/site-packages/pandas/io/common.py\", line 360, in _get_handle\n",
      "    zip_file = zipfile.ZipFile(path_or_buf)\n",
      "  File \"/Users/josesanz/anaconda3/envs/zipline/lib/python3.5/zipfile.py\", line 1009, in __init__\n",
      "    self.fp = io.open(file, filemode)\n",
      "  File \"/Users/josesanz/stock_projects/Pythia/src/api_manager.py\", line 165, in update_stock_info\n",
      "    old_info = await read_info_file(info_file, check=False, verbose=verbose)\n",
      "  File \"/Users/josesanz/stock_projects/Pythia/src/api_manager.py\", line 144, in read_info_file\n",
      "    async with aiofiles.open(info_file, \"r\") as info:\n",
      "  File \"/Users/josesanz/anaconda3/envs/zipline/lib/python3.5/site-packages/aiofiles/base.py\", line 78, in __aenter__\n",
      "    self._obj = yield from self._coro\n",
      "  File \"/Users/josesanz/anaconda3/envs/zipline/lib/python3.5/site-packages/aiofiles/threadpool/__init__.py\", line 35, in _open\n",
      "    f = yield from loop.run_in_executor(executor, cb)\n",
      "  File \"/Users/josesanz/anaconda3/envs/zipline/lib/python3.5/asyncio/futures.py\", line 381, in __iter__\n",
      "    yield self  # This tells Task to wait for completion.\n",
      "  File \"/Users/josesanz/anaconda3/envs/zipline/lib/python3.5/asyncio/tasks.py\", line 310, in _wakeup\n",
      "    future.result()\n",
      "  File \"/Users/josesanz/anaconda3/envs/zipline/lib/python3.5/asyncio/futures.py\", line 294, in result\n",
      "    raise self._exception\n",
      "  File \"/Users/josesanz/anaconda3/envs/zipline/lib/python3.5/concurrent/futures/thread.py\", line 55, in run\n",
      "    result = self.fn(*self.args, **self.kwargs)\n"
     ]
    },
    {
     "name": "stdout",
     "output_type": "stream",
     "text": [
      "ERROR saving data:\t\tBARC.LONstock_data_monthly FileNotFoundError(2, 'No such file or directory') None\n",
      "ERROR updating info: /Users/josesanz/stock_projects/Pythia/data/BARC.LON/info_data_monthly.json. Msg: TypeError(\"invalid file: PosixPath('/Users/josesanz/stock_projects/Pythia/data/BARC.LON/info_data_monthly.json')\",) None\n",
      "Updating BARC.LON:\t\t\t\tFinished\n",
      "Updating BARC.LON ...\n",
      "Retrieving BARC.LON:\t\t\tFrom 'vantage' API\n"
     ]
    },
    {
     "name": "stderr",
     "output_type": "stream",
     "text": [
      "  File \"/Users/josesanz/stock_projects/Pythia/src/utils.py\", line 111, in save_pandas_data\n",
      "    data.reset_index().to_csv(file_name, index=False, compression=\"zip\")             # Using \"infer\" in later versions\n",
      "  File \"/Users/josesanz/anaconda3/envs/zipline/lib/python3.5/site-packages/pandas/core/frame.py\", line 1524, in to_csv\n",
      "    formatter.save()\n",
      "  File \"/Users/josesanz/anaconda3/envs/zipline/lib/python3.5/site-packages/pandas/io/formats/format.py\", line 1637, in save\n",
      "    compression=self.compression)\n",
      "  File \"/Users/josesanz/anaconda3/envs/zipline/lib/python3.5/site-packages/pandas/io/common.py\", line 360, in _get_handle\n",
      "    zip_file = zipfile.ZipFile(path_or_buf)\n",
      "  File \"/Users/josesanz/anaconda3/envs/zipline/lib/python3.5/zipfile.py\", line 1009, in __init__\n",
      "    self.fp = io.open(file, filemode)\n",
      "  File \"/Users/josesanz/stock_projects/Pythia/src/api_manager.py\", line 165, in update_stock_info\n",
      "    old_info = await read_info_file(info_file, check=False, verbose=verbose)\n",
      "  File \"/Users/josesanz/stock_projects/Pythia/src/api_manager.py\", line 144, in read_info_file\n",
      "    async with aiofiles.open(info_file, \"r\") as info:\n",
      "  File \"/Users/josesanz/anaconda3/envs/zipline/lib/python3.5/site-packages/aiofiles/base.py\", line 78, in __aenter__\n",
      "    self._obj = yield from self._coro\n",
      "  File \"/Users/josesanz/anaconda3/envs/zipline/lib/python3.5/site-packages/aiofiles/threadpool/__init__.py\", line 35, in _open\n",
      "    f = yield from loop.run_in_executor(executor, cb)\n",
      "  File \"/Users/josesanz/anaconda3/envs/zipline/lib/python3.5/asyncio/futures.py\", line 381, in __iter__\n",
      "    yield self  # This tells Task to wait for completion.\n",
      "  File \"/Users/josesanz/anaconda3/envs/zipline/lib/python3.5/asyncio/tasks.py\", line 310, in _wakeup\n",
      "    future.result()\n",
      "  File \"/Users/josesanz/anaconda3/envs/zipline/lib/python3.5/asyncio/futures.py\", line 294, in result\n",
      "    raise self._exception\n",
      "  File \"/Users/josesanz/anaconda3/envs/zipline/lib/python3.5/concurrent/futures/thread.py\", line 55, in run\n",
      "    result = self.fn(*self.args, **self.kwargs)\n"
     ]
    },
    {
     "name": "stdout",
     "output_type": "stream",
     "text": [
      "ERROR saving data:\t\tBARC.LONstock_data_daily-adjusted FileNotFoundError(2, 'No such file or directory') None\n",
      "ERROR updating info: /Users/josesanz/stock_projects/Pythia/data/BARC.LON/info_data_daily-adjusted.json. Msg: TypeError(\"invalid file: PosixPath('/Users/josesanz/stock_projects/Pythia/data/BARC.LON/info_data_daily-adjusted.json')\",) None\n",
      "Updating BARC.LON:\t\t\t\tFinished\n",
      "Updating BARC.LON ...\n",
      "Retrieving BARC.LON:\t\t\tFrom 'vantage' API\n"
     ]
    },
    {
     "name": "stderr",
     "output_type": "stream",
     "text": [
      "  File \"/Users/josesanz/stock_projects/Pythia/src/utils.py\", line 111, in save_pandas_data\n",
      "    data.reset_index().to_csv(file_name, index=False, compression=\"zip\")             # Using \"infer\" in later versions\n",
      "  File \"/Users/josesanz/anaconda3/envs/zipline/lib/python3.5/site-packages/pandas/core/frame.py\", line 1524, in to_csv\n",
      "    formatter.save()\n",
      "  File \"/Users/josesanz/anaconda3/envs/zipline/lib/python3.5/site-packages/pandas/io/formats/format.py\", line 1637, in save\n",
      "    compression=self.compression)\n",
      "  File \"/Users/josesanz/anaconda3/envs/zipline/lib/python3.5/site-packages/pandas/io/common.py\", line 360, in _get_handle\n",
      "    zip_file = zipfile.ZipFile(path_or_buf)\n",
      "  File \"/Users/josesanz/anaconda3/envs/zipline/lib/python3.5/zipfile.py\", line 1009, in __init__\n",
      "    self.fp = io.open(file, filemode)\n",
      "  File \"/Users/josesanz/stock_projects/Pythia/src/api_manager.py\", line 165, in update_stock_info\n",
      "    old_info = await read_info_file(info_file, check=False, verbose=verbose)\n",
      "  File \"/Users/josesanz/stock_projects/Pythia/src/api_manager.py\", line 144, in read_info_file\n",
      "    async with aiofiles.open(info_file, \"r\") as info:\n",
      "  File \"/Users/josesanz/anaconda3/envs/zipline/lib/python3.5/site-packages/aiofiles/base.py\", line 78, in __aenter__\n",
      "    self._obj = yield from self._coro\n",
      "  File \"/Users/josesanz/anaconda3/envs/zipline/lib/python3.5/site-packages/aiofiles/threadpool/__init__.py\", line 35, in _open\n",
      "    f = yield from loop.run_in_executor(executor, cb)\n",
      "  File \"/Users/josesanz/anaconda3/envs/zipline/lib/python3.5/asyncio/futures.py\", line 381, in __iter__\n",
      "    yield self  # This tells Task to wait for completion.\n",
      "  File \"/Users/josesanz/anaconda3/envs/zipline/lib/python3.5/asyncio/tasks.py\", line 310, in _wakeup\n",
      "    future.result()\n",
      "  File \"/Users/josesanz/anaconda3/envs/zipline/lib/python3.5/asyncio/futures.py\", line 294, in result\n",
      "    raise self._exception\n",
      "  File \"/Users/josesanz/anaconda3/envs/zipline/lib/python3.5/concurrent/futures/thread.py\", line 55, in run\n",
      "    result = self.fn(*self.args, **self.kwargs)\n"
     ]
    },
    {
     "name": "stdout",
     "output_type": "stream",
     "text": [
      "ERROR saving data:\t\tBARC.LONstock_data_monthly-adjusted FileNotFoundError(2, 'No such file or directory') None\n",
      "ERROR updating info: /Users/josesanz/stock_projects/Pythia/data/BARC.LON/info_data_monthly-adjusted.json. Msg: TypeError(\"invalid file: PosixPath('/Users/josesanz/stock_projects/Pythia/data/BARC.LON/info_data_monthly-adjusted.json')\",) None\n",
      "Updating BARC.LON:\t\t\t\tFinished\n",
      "Stocks update finished!\n"
     ]
    },
    {
     "name": "stderr",
     "output_type": "stream",
     "text": [
      "  File \"/Users/josesanz/stock_projects/Pythia/src/utils.py\", line 111, in save_pandas_data\n",
      "    data.reset_index().to_csv(file_name, index=False, compression=\"zip\")             # Using \"infer\" in later versions\n",
      "  File \"/Users/josesanz/anaconda3/envs/zipline/lib/python3.5/site-packages/pandas/core/frame.py\", line 1524, in to_csv\n",
      "    formatter.save()\n",
      "  File \"/Users/josesanz/anaconda3/envs/zipline/lib/python3.5/site-packages/pandas/io/formats/format.py\", line 1637, in save\n",
      "    compression=self.compression)\n",
      "  File \"/Users/josesanz/anaconda3/envs/zipline/lib/python3.5/site-packages/pandas/io/common.py\", line 360, in _get_handle\n",
      "    zip_file = zipfile.ZipFile(path_or_buf)\n",
      "  File \"/Users/josesanz/anaconda3/envs/zipline/lib/python3.5/zipfile.py\", line 1009, in __init__\n",
      "    self.fp = io.open(file, filemode)\n",
      "  File \"/Users/josesanz/stock_projects/Pythia/src/api_manager.py\", line 165, in update_stock_info\n",
      "    old_info = await read_info_file(info_file, check=False, verbose=verbose)\n",
      "  File \"/Users/josesanz/stock_projects/Pythia/src/api_manager.py\", line 144, in read_info_file\n",
      "    async with aiofiles.open(info_file, \"r\") as info:\n",
      "  File \"/Users/josesanz/anaconda3/envs/zipline/lib/python3.5/site-packages/aiofiles/base.py\", line 78, in __aenter__\n",
      "    self._obj = yield from self._coro\n",
      "  File \"/Users/josesanz/anaconda3/envs/zipline/lib/python3.5/site-packages/aiofiles/threadpool/__init__.py\", line 35, in _open\n",
      "    f = yield from loop.run_in_executor(executor, cb)\n",
      "  File \"/Users/josesanz/anaconda3/envs/zipline/lib/python3.5/asyncio/futures.py\", line 381, in __iter__\n",
      "    yield self  # This tells Task to wait for completion.\n",
      "  File \"/Users/josesanz/anaconda3/envs/zipline/lib/python3.5/asyncio/tasks.py\", line 310, in _wakeup\n",
      "    future.result()\n",
      "  File \"/Users/josesanz/anaconda3/envs/zipline/lib/python3.5/asyncio/futures.py\", line 294, in result\n",
      "    raise self._exception\n",
      "  File \"/Users/josesanz/anaconda3/envs/zipline/lib/python3.5/concurrent/futures/thread.py\", line 55, in run\n",
      "    result = self.fn(*self.args, **self.kwargs)\n"
     ]
    }
   ],
   "source": [
    "# Retrieve data...\n",
    "update_all_stock_data([\"BARC.LON\"], verbose=0)"
   ]
  },
  {
   "cell_type": "code",
   "execution_count": null,
   "metadata": {},
   "outputs": [],
   "source": []
  }
 ],
 "metadata": {
  "kernelspec": {
   "display_name": "Python 3",
   "language": "python",
   "name": "python3"
  },
  "language_info": {
   "codemirror_mode": {
    "name": "ipython",
    "version": 3
   },
   "file_extension": ".py",
   "mimetype": "text/x-python",
   "name": "python",
   "nbconvert_exporter": "python",
   "pygments_lexer": "ipython3",
   "version": "3.7.5"
  }
 },
 "nbformat": 4,
 "nbformat_minor": 2
}
