{
 "cells": [
  {
   "cell_type": "code",
   "execution_count": 1,
   "metadata": {},
   "outputs": [
    {
     "name": "stdout",
     "output_type": "stream",
     "text": [
      "CPython 3.7.5\n",
      "IPython 7.10.0\n",
      "\n",
      "numpy 1.17.4\n",
      "pandas 0.25.3\n",
      "matplotlib 3.1.2\n",
      "\n",
      "compiler   : Clang 4.0.1 (tags/RELEASE_401/final)\n",
      "system     : Darwin\n",
      "release    : 19.0.0\n",
      "machine    : x86_64\n",
      "processor  : i386\n",
      "CPU cores  : 16\n",
      "interpreter: 64bit\n",
      "Git hash   : 296462d78448e3359fc49e11d10691d124b669e7\n"
     ]
    }
   ],
   "source": [
    "%load_ext autoreload\n",
    "%autoreload 2\n",
    "%matplotlib inline\n",
    "%load_ext watermark\n",
    "%watermark -v -m -p numpy,pandas,matplotlib -g\n",
    "\n",
    "import sys\n",
    "from os import path, pardir\n",
    "import numpy as np\n",
    "import pandas as pd\n",
    "import matplotlib.pyplot as plt\n",
    "from tqdm import tqdm_notebook as tqdm\n",
    "import watermark\n",
    "\n",
    "plt.style.use('seaborn-deep')\n",
    "pd.set_option('display.max_rows', 2000)\n",
    "pd.set_option('display.max_colwidth', -1)\n",
    "\n",
    "sys.path.append(path.abspath(pardir))"
   ]
  },
  {
   "cell_type": "code",
   "execution_count": 2,
   "metadata": {},
   "outputs": [],
   "source": [
    "from src.api_manager import *\n",
    "from src.run_updates import *"
   ]
  },
  {
   "cell_type": "code",
   "execution_count": 12,
   "metadata": {},
   "outputs": [
    {
     "name": "stdout",
     "output_type": "stream",
     "text": [
      "Notebook detected\n",
      "Retrieving BASF:\t\t\tFrom 'vantage' API\n",
      "Notebook detected\n",
      "Retrieving GB0007908733:\t\tFrom 'vantage' API\n"
     ]
    }
   ],
   "source": [
    "# Find symbols of stocks\n",
    "references = [\"BASF\", \"GB0007908733\"]  #\"Altria\", \"Liberty Global\", \"Starbucks\"]\n",
    "\n",
    "result = search_symbol(references)\n",
    "first_rst = [rst['bestMatches'][0]  if len(rst['bestMatches']) > 0 else None for rst in result]"
   ]
  },
  {
   "cell_type": "code",
   "execution_count": 11,
   "metadata": {},
   "outputs": [
    {
     "name": "stdout",
     "output_type": "stream",
     "text": [
      "Updating SSE.LON ...\n",
      "Notebook detected\n",
      "Retrieving SSE.LON:\t\t\tFrom 'vantage' API\n",
      "Notebook detected\n",
      "Saved SSE.LON data:\t\t\t[stock_data_daily] OK\n",
      "Notebook detected\n",
      "Updating SSE.LON info:\t\tOK\n",
      "Notebook detected\n",
      "Updating SSE.LON data:\t\tOK\n",
      "Updating SSE.LON ...\n",
      "Notebook detected\n",
      "Retrieving SSE.LON:\t\t\tFrom 'vantage' API\n",
      "Notebook detected\n",
      "Saved SSE.LON data:\t\t\t[stock_data_monthly] OK\n",
      "Notebook detected\n",
      "Updating SSE.LON info:\t\tOK\n",
      "Notebook detected\n",
      "Updating SSE.LON data:\t\tOK\n",
      "Updating SSE.LON ...\n",
      "Notebook detected\n",
      "Retrieving SSE.LON:\t\t\tFrom 'vantage' API\n",
      "Notebook detected\n",
      "Saved SSE.LON data:\t\t\t[stock_data_daily_adjusted] OK\n",
      "Notebook detected\n",
      "Updating SSE.LON info:\t\tOK\n",
      "Notebook detected\n",
      "Updating SSE.LON data:\t\tOK\n",
      "Updating SSE.LON ...\n",
      "Notebook detected\n",
      "Retrieving SSE.LON:\t\t\tFrom 'vantage' API\n",
      "Notebook detected\n",
      "Saved SSE.LON data:\t\t\t[stock_data_monthly_adjusted] OK\n",
      "Notebook detected\n",
      "Updating SSE.LON info:\t\tOK\n",
      "Notebook detected\n",
      "Updating SSE.LON data:\t\tOK\n",
      "Stocks update finished!\n"
     ]
    }
   ],
   "source": [
    "# Retrieve data...\n",
    "update_all_stock_data([\"SSE.LON\"])"
   ]
  },
  {
   "cell_type": "code",
   "execution_count": 11,
   "metadata": {},
   "outputs": [
    {
     "data": {
      "text/plain": [
       "['BTC_GBP', 'ETH_GBP', 'GBP_CNY', 'GBP_EUR', 'GBP_INR', 'GBP_USD', 'XRP_GBP']"
      ]
     },
     "execution_count": 11,
     "metadata": {},
     "output_type": "execute_result"
    }
   ],
   "source": [
    "get_all_fx_references()"
   ]
  },
  {
   "cell_type": "code",
   "execution_count": null,
   "metadata": {},
   "outputs": [],
   "source": []
  }
 ],
 "metadata": {
  "kernelspec": {
   "display_name": "Python [conda env:tensorflow2] *",
   "language": "python",
   "name": "conda-env-tensorflow2-py"
  },
  "language_info": {
   "codemirror_mode": {
    "name": "ipython",
    "version": 3
   },
   "file_extension": ".py",
   "mimetype": "text/x-python",
   "name": "python",
   "nbconvert_exporter": "python",
   "pygments_lexer": "ipython3",
   "version": "3.7.5"
  }
 },
 "nbformat": 4,
 "nbformat_minor": 2
}
